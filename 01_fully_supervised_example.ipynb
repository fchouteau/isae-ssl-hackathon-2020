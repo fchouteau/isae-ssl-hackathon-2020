{
 "cells": [
  {
   "cell_type": "markdown",
   "metadata": {},
   "source": [
    "# Exemple supervisé\n",
    "\n",
    "Entraînement d'un modèle en utilisant uniquement le jeu de données supervisé.\n",
    "Peut servir de point de départ à un premier essai pour la compétition."
   ]
  },
  {
   "cell_type": "code",
   "execution_count": 1,
   "metadata": {
    "ExecuteTime": {
     "end_time": "2020-03-25T10:22:51.160300Z",
     "start_time": "2020-03-25T10:22:50.027963Z"
    }
   },
   "outputs": [
    {
     "name": "stdout",
     "output_type": "stream",
     "text": [
      "Requirement already satisfied: skorch in /home/fchouteau/miniconda3/envs/py37-isae/lib/python3.7/site-packages (0.7.0)\n",
      "Requirement already satisfied: scipy>=1.1.0 in /home/fchouteau/miniconda3/envs/py37-isae/lib/python3.7/site-packages (from skorch) (1.4.1)\n",
      "Requirement already satisfied: numpy>=1.13.3 in /home/fchouteau/miniconda3/envs/py37-isae/lib/python3.7/site-packages (from skorch) (1.18.1)\n",
      "Requirement already satisfied: tabulate>=0.7.7 in /home/fchouteau/miniconda3/envs/py37-isae/lib/python3.7/site-packages (from skorch) (0.8.7)\n",
      "Requirement already satisfied: scikit-learn>=0.19.1 in /home/fchouteau/miniconda3/envs/py37-isae/lib/python3.7/site-packages (from skorch) (0.22.2.post1)\n",
      "Requirement already satisfied: tqdm>=4.14.0 in /home/fchouteau/miniconda3/envs/py37-isae/lib/python3.7/site-packages (from skorch) (4.43.0)\n",
      "Requirement already satisfied: joblib>=0.11 in /home/fchouteau/miniconda3/envs/py37-isae/lib/python3.7/site-packages (from scikit-learn>=0.19.1->skorch) (0.14.1)\n"
     ]
    }
   ],
   "source": [
    "!pip install skorch"
   ]
  },
  {
   "cell_type": "code",
   "execution_count": 20,
   "metadata": {
    "ExecuteTime": {
     "end_time": "2020-03-25T10:27:11.363883Z",
     "start_time": "2020-03-25T10:27:10.648057Z"
    }
   },
   "outputs": [
    {
     "name": "stdout",
     "output_type": "stream",
     "text": [
      "Package                           Version            \n",
      "--------------------------------- -------------------\n",
      "absl-py                           0.9.0              \n",
      "affine                            2.3.0              \n",
      "appdirs                           1.4.3              \n",
      "attrs                             19.3.0             \n",
      "backcall                          0.1.0              \n",
      "bleach                            3.1.3              \n",
      "cachetools                        4.0.0              \n",
      "certifi                           2019.11.28         \n",
      "chardet                           3.0.4              \n",
      "click                             7.1.1              \n",
      "click-plugins                     1.1.1              \n",
      "cligj                             0.5.0              \n",
      "cycler                            0.10.0             \n",
      "decorator                         4.4.2              \n",
      "defusedxml                        0.6.0              \n",
      "entrypoints                       0.3                \n",
      "Fiona                             1.8.13.post1       \n",
      "fs                                2.4.11             \n",
      "fs-gcsfs                          1.1.0              \n",
      "future                            0.18.2             \n",
      "google-api-core                   1.16.0             \n",
      "google-auth                       1.11.3             \n",
      "google-auth-oauthlib              0.4.1              \n",
      "google-cloud-core                 1.3.0              \n",
      "google-cloud-storage              1.26.0             \n",
      "google-resumable-media            0.5.0              \n",
      "googleapis-common-protos          1.51.0             \n",
      "grpcio                            1.27.2             \n",
      "idna                              2.9                \n",
      "imageio                           2.8.0              \n",
      "importlib-metadata                1.5.0              \n",
      "ipykernel                         5.2.0              \n",
      "ipython                           7.13.0             \n",
      "ipython-genutils                  0.2.0              \n",
      "ipywidgets                        7.5.1              \n",
      "jedi                              0.16.0             \n",
      "Jinja2                            2.11.1             \n",
      "joblib                            0.14.1             \n",
      "jsonschema                        3.2.0              \n",
      "jupyter                           1.0.0              \n",
      "jupyter-client                    6.1.0              \n",
      "jupyter-console                   6.1.0              \n",
      "jupyter-contrib-core              0.3.3              \n",
      "jupyter-contrib-nbextensions      0.5.1              \n",
      "jupyter-core                      4.6.3              \n",
      "jupyter-highlight-selected-word   0.2.0              \n",
      "jupyter-latex-envs                1.4.6              \n",
      "jupyter-nbextensions-configurator 0.4.1              \n",
      "jupytext                          1.4.1              \n",
      "kiwisolver                        1.1.0              \n",
      "loguru                            0.4.1              \n",
      "lxml                              4.5.0              \n",
      "Markdown                          3.2.1              \n",
      "MarkupSafe                        1.1.1              \n",
      "matplotlib                        3.2.1              \n",
      "mistune                           0.8.4              \n",
      "mkl-fft                           1.0.15             \n",
      "mkl-random                        1.1.0              \n",
      "mkl-service                       2.3.0              \n",
      "multidict                         4.7.5              \n",
      "munch                             2.5.0              \n",
      "nbconvert                         5.6.1              \n",
      "nbformat                          5.0.4              \n",
      "networkx                          2.4                \n",
      "notebook                          6.0.3              \n",
      "numpy                             1.18.1             \n",
      "oauthlib                          3.1.0              \n",
      "olefile                           0.46               \n",
      "opencv-python                     4.2.0.32           \n",
      "pandas                            1.0.3              \n",
      "pandocfilters                     1.4.2              \n",
      "parso                             0.6.2              \n",
      "pexpect                           4.8.0              \n",
      "pickleshare                       0.7.5              \n",
      "Pillow                            7.0.0              \n",
      "pip                               20.0.2             \n",
      "prometheus-client                 0.7.1              \n",
      "prompt-toolkit                    3.0.4              \n",
      "protobuf                          3.11.3             \n",
      "ptyprocess                        0.6.0              \n",
      "pyasn1                            0.4.8              \n",
      "pyasn1-modules                    0.2.8              \n",
      "Pygments                          2.6.1              \n",
      "pyparsing                         2.4.6              \n",
      "pyrsistent                        0.15.7             \n",
      "python-dateutil                   2.8.1              \n",
      "pytorch-ignite                    0.3.0              \n",
      "pytorch-lightning                 0.7.1              \n",
      "pytz                              2019.3             \n",
      "PyWavelets                        1.1.1              \n",
      "PyYAML                            5.3.1              \n",
      "pyzmq                             19.0.0             \n",
      "qtconsole                         4.7.1              \n",
      "QtPy                              1.9.0              \n",
      "rasterio                          1.1.3              \n",
      "requests                          2.23.0             \n",
      "requests-oauthlib                 1.3.0              \n",
      "rsa                               4.0                \n",
      "scikit-image                      0.16.2             \n",
      "scikit-learn                      0.22.2.post1       \n",
      "scipy                             1.4.1              \n",
      "Send2Trash                        1.5.0              \n",
      "setuptools                        45.2.0.post20200210\n",
      "Shapely                           1.7.0              \n",
      "six                               1.14.0             \n",
      "skorch                            0.7.0              \n",
      "snuggs                            1.4.7              \n",
      "tabulate                          0.8.7              \n",
      "tensorboard                       2.1.1              \n",
      "terminado                         0.8.3              \n",
      "testpath                          0.4.4              \n",
      "torch                             1.4.0              \n",
      "torchvision                       0.5.0              \n",
      "tornado                           6.0.4              \n",
      "tqdm                              4.43.0             \n",
      "traitlets                         4.3.3              \n",
      "urllib3                           1.25.8             \n",
      "wcwidth                           0.1.9              \n",
      "webencodings                      0.5.1              \n",
      "Werkzeug                          1.0.0              \n",
      "wheel                             0.34.2             \n",
      "widgetsnbextension                3.5.1              \n",
      "yapf                              0.29.0             \n",
      "yarl                              1.4.2              \n",
      "zipp                              3.1.0              \n"
     ]
    }
   ],
   "source": [
    "!pip list"
   ]
  },
  {
   "cell_type": "code",
   "execution_count": 21,
   "metadata": {
    "ExecuteTime": {
     "end_time": "2020-03-25T10:27:18.854830Z",
     "start_time": "2020-03-25T10:27:18.851585Z"
    },
    "lines_to_next_cell": 0
   },
   "outputs": [],
   "source": [
    "import os\n",
    "import random\n",
    "import datetime"
   ]
  },
  {
   "cell_type": "code",
   "execution_count": 22,
   "metadata": {
    "ExecuteTime": {
     "end_time": "2020-03-25T10:27:24.437981Z",
     "start_time": "2020-03-25T10:27:24.428678Z"
    }
   },
   "outputs": [],
   "source": [
    "import matplotlib.cm\n",
    "import numpy as np\n",
    "import scipy\n",
    "import sklearn\n",
    "import sklearn.metrics\n",
    "import sklearn.metrics\n",
    "import sklearn.preprocessing\n",
    "import skorch.dataset\n",
    "import skorch.helper\n",
    "import torch\n",
    "import torch.nn as nn\n",
    "import torch.optim as optim\n",
    "from matplotlib import pyplot as plt"
   ]
  },
  {
   "cell_type": "code",
   "execution_count": 4,
   "metadata": {
    "ExecuteTime": {
     "end_time": "2020-03-25T10:22:52.557894Z",
     "start_time": "2020-03-25T10:22:52.550268Z"
    }
   },
   "outputs": [
    {
     "data": {
      "text/plain": [
       "<torch._C.Generator at 0x7ff9779524b0>"
      ]
     },
     "execution_count": 4,
     "metadata": {},
     "output_type": "execute_result"
    }
   ],
   "source": [
    "random.seed(2020)\n",
    "np.random.seed(2020)\n",
    "torch.manual_seed(2020)"
   ]
  },
  {
   "cell_type": "code",
   "execution_count": 5,
   "metadata": {
    "ExecuteTime": {
     "end_time": "2020-03-25T10:22:52.632972Z",
     "start_time": "2020-03-25T10:22:52.559925Z"
    }
   },
   "outputs": [],
   "source": [
    "TRAIN_DATA_URL = \"https://storage.googleapis.com/fchouteau-isae-deep-learning/hackathon-2020/eurosat_train.npz\"\n",
    "\n",
    "VALID_DATA_URL = \"https://storage.googleapis.com/fchouteau-isae-deep-learning/hackathon-2020/eurosat_valid.npz\"\n",
    "\n",
    "CLASSES = [\n",
    "    'AnnualCrop', 'Forest', 'HerbaceousVegetation', 'Highway', 'Industrial', 'Pasture', 'PermanentCrop', 'Residential',\n",
    "    'River', 'SeaLake'\n",
    "]\n",
    "\n",
    "DATASOURCE = np.DataSource(None)"
   ]
  },
  {
   "cell_type": "code",
   "execution_count": 6,
   "metadata": {
    "ExecuteTime": {
     "end_time": "2020-03-25T10:22:53.893421Z",
     "start_time": "2020-03-25T10:22:52.637050Z"
    }
   },
   "outputs": [],
   "source": [
    "train_dataset = DATASOURCE.open(TRAIN_DATA_URL, \"rb\")\n",
    "train_dataset = np.load(train_dataset)\n",
    "\n",
    "valid_dataset = DATASOURCE.open(VALID_DATA_URL, \"rb\")\n",
    "valid_dataset = np.load(valid_dataset)"
   ]
  },
  {
   "cell_type": "code",
   "execution_count": 7,
   "metadata": {
    "ExecuteTime": {
     "end_time": "2020-03-25T10:22:54.079261Z",
     "start_time": "2020-03-25T10:22:53.896913Z"
    }
   },
   "outputs": [],
   "source": [
    "x_train, y_train = train_dataset['x'], train_dataset['y']\n",
    "x_valid, y_valid = valid_dataset['x'], valid_dataset['y']"
   ]
  },
  {
   "cell_type": "code",
   "execution_count": 8,
   "metadata": {
    "ExecuteTime": {
     "end_time": "2020-03-25T10:22:54.085392Z",
     "start_time": "2020-03-25T10:22:54.081058Z"
    }
   },
   "outputs": [
    {
     "data": {
      "text/plain": [
       "((1500, 64, 64, 3), (1500,))"
      ]
     },
     "execution_count": 8,
     "metadata": {},
     "output_type": "execute_result"
    }
   ],
   "source": [
    "x_train.shape, y_train.shape\n",
    "x_valid.shape, y_valid.shape"
   ]
  },
  {
   "cell_type": "code",
   "execution_count": 9,
   "metadata": {
    "ExecuteTime": {
     "end_time": "2020-03-25T10:22:54.223441Z",
     "start_time": "2020-03-25T10:22:54.086712Z"
    }
   },
   "outputs": [],
   "source": [
    "x_train = x_train.astype(np.float32) / 255.\n",
    "x_train = x_train.transpose((0, 3, 1, 2))\n",
    "\n",
    "x_valid = x_valid.astype(np.float32) / 255.\n",
    "x_valid = x_valid.transpose((0, 3, 1, 2))\n",
    "\n",
    "# Helper in skorch to use a custom validation dataset instead of splitting the train set\n",
    "# https://skorch.readthedocs.io/en/stable/user/FAQ.html#i-already-split-my-data-into-training-and-validation-sets-how-can-i-use-them\n",
    "valid_ds = skorch.dataset.Dataset(x_valid, y_valid)\n",
    "train_split = skorch.helper.predefined_split(valid_ds)"
   ]
  },
  {
   "cell_type": "code",
   "execution_count": 10,
   "metadata": {
    "ExecuteTime": {
     "end_time": "2020-03-25T10:22:54.280824Z",
     "start_time": "2020-03-25T10:22:54.225924Z"
    }
   },
   "outputs": [
    {
     "data": {
      "text/plain": [
       "Sequential(\n",
       "  (0): Conv2d(3, 32, kernel_size=(3, 3), stride=(1, 1), padding=(1, 1))\n",
       "  (1): BatchNorm2d(32, eps=1e-05, momentum=0.1, affine=True, track_running_stats=True)\n",
       "  (2): ReLU()\n",
       "  (3): MaxPool2d(kernel_size=2, stride=2, padding=0, dilation=1, ceil_mode=False)\n",
       "  (4): Conv2d(32, 64, kernel_size=(3, 3), stride=(1, 1), padding=(1, 1))\n",
       "  (5): BatchNorm2d(64, eps=1e-05, momentum=0.1, affine=True, track_running_stats=True)\n",
       "  (6): ReLU()\n",
       "  (7): MaxPool2d(kernel_size=2, stride=2, padding=0, dilation=1, ceil_mode=False)\n",
       "  (8): Conv2d(64, 64, kernel_size=(3, 3), stride=(1, 1), padding=(1, 1))\n",
       "  (9): BatchNorm2d(64, eps=1e-05, momentum=0.1, affine=True, track_running_stats=True)\n",
       "  (10): ReLU()\n",
       "  (11): MaxPool2d(kernel_size=2, stride=2, padding=0, dilation=1, ceil_mode=False)\n",
       "  (12): Flatten()\n",
       "  (13): Linear(in_features=4096, out_features=256, bias=True)\n",
       "  (14): BatchNorm1d(256, eps=1e-05, momentum=0.1, affine=True, track_running_stats=True)\n",
       "  (15): ReLU()\n",
       "  (16): Linear(in_features=256, out_features=128, bias=True)\n",
       "  (17): BatchNorm1d(128, eps=1e-05, momentum=0.1, affine=True, track_running_stats=True)\n",
       "  (18): ReLU()\n",
       "  (19): Linear(in_features=128, out_features=10, bias=True)\n",
       "  (20): Softmax(dim=-1)\n",
       ")"
      ]
     },
     "execution_count": 10,
     "metadata": {},
     "output_type": "execute_result"
    }
   ],
   "source": [
    "def init_weights(m):\n",
    "    if type(m) == nn.Conv2d:\n",
    "        torch.nn.init.kaiming_uniform_(m.weight, nonlinearity=\"relu\")\n",
    "        m.bias.data.fill_(0.1)\n",
    "    if type(m) == nn.Linear:\n",
    "        # apply a uniform distribution to the weights and a bias=0\n",
    "        torch.nn.init.kaiming_uniform_(m.weight, nonlinearity=\"relu\")\n",
    "        m.bias.data.fill_(0.1)\n",
    "\n",
    "\n",
    "model = nn.Sequential(\n",
    "    nn.Conv2d(3, 32, 3, padding=1),\n",
    "    nn.BatchNorm2d(32),\n",
    "    nn.ReLU(),\n",
    "    nn.MaxPool2d(2),\n",
    "    nn.Conv2d(32, 64, 3, padding=1),\n",
    "    nn.BatchNorm2d(64),\n",
    "    nn.ReLU(),\n",
    "    nn.MaxPool2d(2),\n",
    "    nn.Conv2d(64, 64, 3, padding=1),\n",
    "    nn.BatchNorm2d(64),\n",
    "    nn.ReLU(),\n",
    "    nn.MaxPool2d(2),\n",
    "    nn.Flatten(),\n",
    "    nn.Linear(8 * 8 * 64, 256),\n",
    "    nn.BatchNorm1d(256),\n",
    "    nn.ReLU(),\n",
    "    nn.Linear(256, 128),\n",
    "    nn.BatchNorm1d(128),\n",
    "    nn.ReLU(),\n",
    "    nn.Linear(128, 10),\n",
    "    nn.Softmax(dim=-1),\n",
    ")\n",
    "\n",
    "model.apply(init_weights)"
   ]
  },
  {
   "cell_type": "code",
   "execution_count": 11,
   "metadata": {
    "ExecuteTime": {
     "end_time": "2020-03-25T10:22:54.337817Z",
     "start_time": "2020-03-25T10:22:54.282344Z"
    }
   },
   "outputs": [],
   "source": [
    "lr_scheduler = skorch.callbacks.LRScheduler(policy=torch.optim.lr_scheduler.ReduceLROnPlateau,\n",
    "                                            factor=0.1,\n",
    "                                            patience=3)\n",
    "\n",
    "early_stopping = skorch.callbacks.EarlyStopping(patience=5)\n",
    "\n",
    "checkpoint_dir = './tmp'\n",
    "os.makedirs(checkpoint_dir, exist_ok=True)\n",
    "\n",
    "cp = skorch.callbacks.Checkpoint(dirname=checkpoint_dir)\n",
    "train_end_cp = skorch.callbacks.TrainEndCheckpoint(dirname=checkpoint_dir)\n",
    "\n",
    "lr = 0.01\n",
    "batch_size = 32\n",
    "max_epochs = 2\n",
    "\n",
    "net = skorch.NeuralNetClassifier(\n",
    "    model,\n",
    "    batch_size=batch_size,\n",
    "    max_epochs=max_epochs,\n",
    "    lr=lr,\n",
    "    train_split=train_split,\n",
    "    # Shuffle training data on each epoch\n",
    "    iterator_train__shuffle=True,\n",
    "    device=\"cuda\" if torch.cuda.is_available() else \"cpu\",\n",
    "    criterion=nn.modules.loss.NLLLoss,\n",
    "    optimizer=optim.Adam,\n",
    "    callbacks=[lr_scheduler, early_stopping, cp, train_end_cp])"
   ]
  },
  {
   "cell_type": "code",
   "execution_count": 12,
   "metadata": {
    "ExecuteTime": {
     "end_time": "2020-03-25T10:23:03.268805Z",
     "start_time": "2020-03-25T10:22:54.339676Z"
    }
   },
   "outputs": [
    {
     "name": "stdout",
     "output_type": "stream",
     "text": [
      "  epoch    train_loss    valid_acc    valid_loss    cp     dur\n",
      "-------  ------------  -----------  ------------  ----  ------\n",
      "      1        \u001b[36m1.6864\u001b[0m       \u001b[32m0.3027\u001b[0m        \u001b[35m1.7133\u001b[0m     +  4.4877\n",
      "      2        \u001b[36m1.2020\u001b[0m       \u001b[32m0.3047\u001b[0m        2.7131        4.0317\n"
     ]
    },
    {
     "data": {
      "text/plain": [
       "<class 'skorch.classifier.NeuralNetClassifier'>[initialized](\n",
       "  module_=Sequential(\n",
       "    (0): Conv2d(3, 32, kernel_size=(3, 3), stride=(1, 1), padding=(1, 1))\n",
       "    (1): BatchNorm2d(32, eps=1e-05, momentum=0.1, affine=True, track_running_stats=True)\n",
       "    (2): ReLU()\n",
       "    (3): MaxPool2d(kernel_size=2, stride=2, padding=0, dilation=1, ceil_mode=False)\n",
       "    (4): Conv2d(32, 64, kernel_size=(3, 3), stride=(1, 1), padding=(1, 1))\n",
       "    (5): BatchNorm2d(64, eps=1e-05, momentum=0.1, affine=True, track_running_stats=True)\n",
       "    (6): ReLU()\n",
       "    (7): MaxPool2d(kernel_size=2, stride=2, padding=0, dilation=1, ceil_mode=False)\n",
       "    (8): Conv2d(64, 64, kernel_size=(3, 3), stride=(1, 1), padding=(1, 1))\n",
       "    (9): BatchNorm2d(64, eps=1e-05, momentum=0.1, affine=True, track_running_stats=True)\n",
       "    (10): ReLU()\n",
       "    (11): MaxPool2d(kernel_size=2, stride=2, padding=0, dilation=1, ceil_mode=False)\n",
       "    (12): Flatten()\n",
       "    (13): Linear(in_features=4096, out_features=256, bias=True)\n",
       "    (14): BatchNorm1d(256, eps=1e-05, momentum=0.1, affine=True, track_running_stats=True)\n",
       "    (15): ReLU()\n",
       "    (16): Linear(in_features=256, out_features=128, bias=True)\n",
       "    (17): BatchNorm1d(128, eps=1e-05, momentum=0.1, affine=True, track_running_stats=True)\n",
       "    (18): ReLU()\n",
       "    (19): Linear(in_features=128, out_features=10, bias=True)\n",
       "    (20): Softmax(dim=-1)\n",
       "  ),\n",
       ")"
      ]
     },
     "execution_count": 12,
     "metadata": {},
     "output_type": "execute_result"
    }
   ],
   "source": [
    "net.fit(x_train, y_train)"
   ]
  },
  {
   "cell_type": "code",
   "execution_count": 13,
   "metadata": {
    "ExecuteTime": {
     "end_time": "2020-03-25T10:23:04.878138Z",
     "start_time": "2020-03-25T10:23:03.270160Z"
    }
   },
   "outputs": [
    {
     "name": "stdout",
     "output_type": "stream",
     "text": [
      "              precision    recall  f1-score   support\n",
      "\n",
      "           0       1.00      0.06      0.11       150\n",
      "           1       0.00      0.00      0.00       150\n",
      "           2       1.00      0.01      0.01       150\n",
      "           3       0.21      0.59      0.31       150\n",
      "           4       0.59      0.97      0.74       150\n",
      "           5       0.00      0.00      0.00       150\n",
      "           6       0.00      0.00      0.00       150\n",
      "           7       0.19      0.59      0.28       150\n",
      "           8       0.14      0.05      0.08       150\n",
      "           9       0.41      0.78      0.54       150\n",
      "\n",
      "    accuracy                           0.30      1500\n",
      "   macro avg       0.35      0.30      0.21      1500\n",
      "weighted avg       0.35      0.30      0.21      1500\n",
      "\n"
     ]
    },
    {
     "name": "stderr",
     "output_type": "stream",
     "text": [
      "/home/fchouteau/miniconda3/envs/py37-isae/lib/python3.7/site-packages/sklearn/metrics/_classification.py:1272: UndefinedMetricWarning: Precision and F-score are ill-defined and being set to 0.0 in labels with no predicted samples. Use `zero_division` parameter to control this behavior.\n",
      "  _warn_prf(average, modifier, msg_start, len(result))\n"
     ]
    }
   ],
   "source": [
    "y_pred = net.predict(x_valid)\n",
    "print(sklearn.metrics.classification_report(y_valid, y_pred, digits=2))\n",
    "acc = sklearn.metrics.accuracy_score(y_valid, y_pred)"
   ]
  },
  {
   "cell_type": "code",
   "execution_count": 14,
   "metadata": {
    "ExecuteTime": {
     "end_time": "2020-03-25T10:23:06.464420Z",
     "start_time": "2020-03-25T10:23:04.879887Z"
    }
   },
   "outputs": [],
   "source": [
    "y_pred_proba = net.predict_proba(x_valid)"
   ]
  },
  {
   "cell_type": "code",
   "execution_count": 15,
   "metadata": {
    "ExecuteTime": {
     "end_time": "2020-03-25T10:23:06.469896Z",
     "start_time": "2020-03-25T10:23:06.465924Z"
    }
   },
   "outputs": [],
   "source": [
    "y_valid_onehot = sklearn.preprocessing.label_binarize(y_valid, range(10))"
   ]
  },
  {
   "cell_type": "code",
   "execution_count": 16,
   "metadata": {
    "ExecuteTime": {
     "end_time": "2020-03-25T10:23:06.585546Z",
     "start_time": "2020-03-25T10:23:06.472003Z"
    }
   },
   "outputs": [],
   "source": [
    "# Compute ROC curve and ROC area for each class\n",
    "\n",
    "def plot_roc_curve(y_test, y_pred, classes):\n",
    "    n_classes = len(classes)\n",
    "\n",
    "    fpr = dict()\n",
    "    tpr = dict()\n",
    "    roc_auc = dict()\n",
    "    for i in range(10):\n",
    "        fpr[i], tpr[i], _ = sklearn.metrics.roc_curve(y_test[:, i], y_pred[:, i])\n",
    "        roc_auc[i] = sklearn.metrics.auc(fpr[i], tpr[i])\n",
    "\n",
    "    # Compute micro-average ROC curve and ROC area\n",
    "    fpr[\"micro\"], tpr[\"micro\"], _ = sklearn.metrics.roc_curve(y_test.ravel(), y_pred.ravel())\n",
    "    roc_auc[\"micro\"] = sklearn.metrics.auc(fpr[\"micro\"], tpr[\"micro\"])\n",
    "\n",
    "    # First aggregate all false positive rates\n",
    "    all_fpr = np.unique(np.concatenate([fpr[i] for i in range(n_classes)]))\n",
    "\n",
    "    # Then interpolate all ROC curves at this points\n",
    "    mean_tpr = np.zeros_like(all_fpr)\n",
    "    for i in range(n_classes):\n",
    "        mean_tpr += scipy.interp(all_fpr, fpr[i], tpr[i])\n",
    "\n",
    "    # Finally average it and compute AUC\n",
    "    mean_tpr /= n_classes\n",
    "\n",
    "    fpr[\"macro\"] = all_fpr\n",
    "    tpr[\"macro\"] = mean_tpr\n",
    "    roc_auc[\"macro\"] = sklearn.metrics.auc(fpr[\"macro\"], tpr[\"macro\"])\n",
    "\n",
    "    # Plot all ROC curves\n",
    "    plt.figure(figsize=(10, 10))\n",
    "    plt.plot(fpr[\"micro\"], tpr[\"micro\"],\n",
    "             label='micro-average ROC curve (area = {0:0.2f})'\n",
    "                   ''.format(roc_auc[\"micro\"]),\n",
    "             color='deeppink', linestyle=':', linewidth=4)\n",
    "\n",
    "    plt.plot(fpr[\"macro\"], tpr[\"macro\"],\n",
    "             label='macro-average ROC curve (area = {0:0.2f})'\n",
    "                   ''.format(roc_auc[\"macro\"]),\n",
    "             color='navy', linestyle=':', linewidth=4)\n",
    "\n",
    "    #     colors = itertools.cycle(['aqua', 'coral', 'gold', 'ivory', 'green', 'blue', 'cyan'])\n",
    "    colors = matplotlib.cm.get_cmap('Pastel1')\n",
    "    colors = colors(np.linspace(0, 1, n_classes))\n",
    "    for i, color in zip(range(n_classes), colors):\n",
    "        plt.plot(fpr[i], tpr[i], color=color, lw=2,\n",
    "                 label='ROC curve of class {0} (area = {1:0.2f})'\n",
    "                       ''.format(classes[i], roc_auc[i]))\n",
    "\n",
    "    plt.plot([0, 1], [0, 1], 'k--', lw=2)\n",
    "    plt.xlim([0.0, 1.0])\n",
    "    plt.ylim([0.0, 1.05])\n",
    "    plt.xlabel('False Positive Rate')\n",
    "    plt.ylabel('True Positive Rate')\n",
    "    plt.title('Some extension of Receiver operating characteristic to multi-class')\n",
    "    plt.legend(loc=\"lower right\")\n",
    "    plt.show()"
   ]
  },
  {
   "cell_type": "code",
   "execution_count": 17,
   "metadata": {
    "ExecuteTime": {
     "end_time": "2020-03-25T10:23:07.003982Z",
     "start_time": "2020-03-25T10:23:06.588187Z"
    }
   },
   "outputs": [
    {
     "name": "stderr",
     "output_type": "stream",
     "text": [
      "/home/fchouteau/miniconda3/envs/py37-isae/lib/python3.7/site-packages/ipykernel_launcher.py:23: DeprecationWarning: scipy.interp is deprecated and will be removed in SciPy 2.0.0, use numpy.interp instead\n"
     ]
    },
    {
     "data": {
      "image/png": "[encoded data removed]",
      "text/plain": [
       "<Figure size 720x720 with 1 Axes>"
      ]
     },
     "metadata": {
      "needs_background": "light"
     },
     "output_type": "display_data"
    }
   ],
   "source": [
    "plot_roc_curve(y_valid_onehot, y_pred_proba, CLASSES)"
   ]
  },
  {
   "cell_type": "code",
   "execution_count": 18,
   "metadata": {
    "ExecuteTime": {
     "end_time": "2020-03-25T10:23:07.010159Z",
     "start_time": "2020-03-25T10:23:07.007003Z"
    }
   },
   "outputs": [],
   "source": [
    "# get and save torch model\n",
    "model = net.module"
   ]
  },
  {
   "cell_type": "code",
   "execution_count": 23,
   "metadata": {
    "ExecuteTime": {
     "end_time": "2020-03-25T10:27:41.729922Z",
     "start_time": "2020-03-25T10:27:41.689520Z"
    }
   },
   "outputs": [],
   "source": [
    "torch.save(model, \"./model_{}.pt\".format(datetime.datetime.now().strftime(\"%Y%m%d_%H%M\")))"
   ]
  }
 ],
 "metadata": {
  "jupytext": {
   "encoding": "# -*- coding: utf-8 -*-",
   "formats": "ipynb,py:percent"
  },
  "kernelspec": {
   "display_name": "Python 3",
   "language": "python",
   "name": "python3"
  },
  "language_info": {
   "codemirror_mode": {
    "name": "ipython",
    "version": 3
   },
   "file_extension": ".py",
   "mimetype": "text/x-python",
   "name": "python",
   "nbconvert_exporter": "python",
   "pygments_lexer": "ipython3",
   "version": "3.7.6"
  },
  "toc": {
   "base_numbering": 1,
   "nav_menu": {},
   "number_sections": true,
   "sideBar": true,
   "skip_h1_title": false,
   "title_cell": "Table of Contents",
   "title_sidebar": "Contents",
   "toc_cell": false,
   "toc_position": {},
   "toc_section_display": true,
   "toc_window_display": false
  }
 },
 "nbformat": 4,
 "nbformat_minor": 4
}
