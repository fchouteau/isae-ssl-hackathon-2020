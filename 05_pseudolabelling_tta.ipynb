{
 "cells": [
  {
   "cell_type": "code",
   "execution_count": 1,
   "metadata": {
    "ExecuteTime": {
     "end_time": "2020-03-26T15:11:19.854769Z",
     "start_time": "2020-03-26T15:11:19.736172Z"
    },
    "lines_to_next_cell": 0
   },
   "outputs": [],
   "source": [
    "import os\n",
    "import random\n",
    "import datetime\n",
    "\n",
    "import matplotlib.cm\n",
    "import numpy as np"
   ]
  },
  {
   "cell_type": "code",
   "execution_count": 2,
   "metadata": {
    "ExecuteTime": {
     "end_time": "2020-03-26T15:11:20.870689Z",
     "start_time": "2020-03-26T15:11:19.856659Z"
    }
   },
   "outputs": [
    {
     "name": "stderr",
     "output_type": "stream",
     "text": [
      "/home/fchouteau/miniconda3/envs/py37-isae/lib/python3.7/site-packages/sklearn/utils/deprecation.py:144: FutureWarning: The sklearn.metrics.scorer module is  deprecated in version 0.22 and will be removed in version 0.24. The corresponding classes / functions should instead be imported from sklearn.metrics. Anything that cannot be imported from sklearn.metrics is now part of the private API.\n",
      "  warnings.warn(message, FutureWarning)\n"
     ]
    }
   ],
   "source": [
    "import pandas as pd\n",
    "import scipy\n",
    "import skimage.exposure\n",
    "import sklearn\n",
    "import sklearn.metrics\n",
    "import sklearn.metrics\n",
    "import sklearn.preprocessing\n",
    "import skorch.helper\n",
    "import torch\n",
    "import torch.nn as nn\n",
    "import torch.optim as optim\n",
    "import torch.utils\n",
    "import torchvision\n",
    "import tqdm\n",
    "from matplotlib import pyplot as plt\n",
    "import tqdm"
   ]
  },
  {
   "cell_type": "code",
   "execution_count": 3,
   "metadata": {
    "ExecuteTime": {
     "end_time": "2020-03-26T15:11:20.878261Z",
     "start_time": "2020-03-26T15:11:20.872496Z"
    }
   },
   "outputs": [
    {
     "data": {
      "text/plain": [
       "<torch._C.Generator at 0x7f1593aa0ed0>"
      ]
     },
     "execution_count": 3,
     "metadata": {},
     "output_type": "execute_result"
    }
   ],
   "source": [
    "random.seed(2020)\n",
    "np.random.seed(2020)\n",
    "torch.manual_seed(2020)"
   ]
  },
  {
   "cell_type": "code",
   "execution_count": 4,
   "metadata": {
    "ExecuteTime": {
     "end_time": "2020-03-26T15:11:20.936261Z",
     "start_time": "2020-03-26T15:11:20.879598Z"
    }
   },
   "outputs": [],
   "source": [
    "TRAIN_DATA_URL = \"https://storage.googleapis.com/fchouteau-isae-deep-learning/hackathon-2020/eurosat_train.npz\"\n",
    "\n",
    "VALID_DATA_URL = \"https://storage.googleapis.com/fchouteau-isae-deep-learning/hackathon-2020/eurosat_valid.npz\"\n",
    "\n",
    "UNSUP_DATA_URL = \"https://storage.googleapis.com/fchouteau-isae-deep-learning/hackathon-2020/eurosat_unsup.npz\"\n",
    "\n",
    "KAGGL_DATA_URL = \"https://storage.googleapis.com/fchouteau-isae-deep-learning/hackathon-2020/test.npz\"\n",
    "\n",
    "CLASSES = [\n",
    "    'AnnualCrop', 'Forest', 'HerbaceousVegetation', 'Highway', 'Industrial', 'Pasture', 'PermanentCrop', 'Residential',\n",
    "    'River', 'SeaLake'\n",
    "]\n",
    "\n",
    "DATASOURCE = np.DataSource(None)"
   ]
  },
  {
   "cell_type": "code",
   "execution_count": 5,
   "metadata": {
    "ExecuteTime": {
     "end_time": "2020-03-26T15:11:21.026969Z",
     "start_time": "2020-03-26T15:11:20.938253Z"
    }
   },
   "outputs": [],
   "source": [
    "THRESHOLDS = [0.87, 0.71, 0.61, 0.68, 0.86, 0.74, 0.67, 0.89, 0.63, 0.81]"
   ]
  },
  {
   "cell_type": "code",
   "execution_count": 6,
   "metadata": {
    "ExecuteTime": {
     "end_time": "2020-03-26T15:11:21.095545Z",
     "start_time": "2020-03-26T15:11:21.030989Z"
    }
   },
   "outputs": [],
   "source": [
    "def plot_imgs(x, y=None, grid_size=4, title=\"samples\"):\n",
    "    \"\"\"\n",
    "    Plot grid_size*grid_size images\n",
    "    \"\"\"\n",
    "    fig, ax = plt.subplots(grid_size, grid_size, figsize=(20, 20))\n",
    "    fig.tight_layout()\n",
    "    idxs = np.random.randint(len(x), size=16)\n",
    "\n",
    "    for i in range(grid_size**2):\n",
    "        k = idxs[i]\n",
    "        if y is not None:\n",
    "            img, lbl = x[k], CLASSES[y[k]]\n",
    "        else:\n",
    "            img, lbl = x[k], \"unlabelled\"\n",
    "        if img.dtype == np.float32:\n",
    "            img = skimage.exposure.rescale_intensity(img, out_range=(0., 1.))\n",
    "        img = skimage.exposure.adjust_gamma(img, gamma=0.7)\n",
    "        ax[i % 4][i // 4].imshow(img)\n",
    "        ax[i % 4][i // 4].set_title(lbl)\n",
    "        ax[i % 4][i // 4].axis('off')\n",
    "    fig.suptitle(title, fontsize=14)\n",
    "    plt.show()"
   ]
  },
  {
   "cell_type": "code",
   "execution_count": 7,
   "metadata": {
    "ExecuteTime": {
     "end_time": "2020-03-26T15:11:25.532836Z",
     "start_time": "2020-03-26T15:11:21.098659Z"
    }
   },
   "outputs": [
    {
     "name": "stdout",
     "output_type": "stream",
     "text": [
      "(500, 64, 64, 3) (500,)\n",
      "(1500, 64, 64, 3) (1500,)\n",
      "(5000, 64, 64, 3)\n"
     ]
    }
   ],
   "source": [
    "train_dataset = DATASOURCE.open(TRAIN_DATA_URL, \"rb\")\n",
    "train_dataset = np.load(train_dataset)\n",
    "\n",
    "valid_dataset = DATASOURCE.open(VALID_DATA_URL, \"rb\")\n",
    "valid_dataset = np.load(valid_dataset)\n",
    "\n",
    "unsup_dataset = DATASOURCE.open(UNSUP_DATA_URL, \"rb\")\n",
    "unsup_dataset = np.load(unsup_dataset)\n",
    "\n",
    "x_train, y_train = train_dataset['x'], train_dataset['y']\n",
    "x_valid, y_valid = valid_dataset['x'], valid_dataset['y']\n",
    "\n",
    "x_unsup = unsup_dataset['x']\n",
    "\n",
    "print(x_train.shape, y_train.shape)\n",
    "print(x_valid.shape, y_valid.shape)\n",
    "print(x_unsup.shape)"
   ]
  },
  {
   "cell_type": "code",
   "execution_count": 8,
   "metadata": {
    "ExecuteTime": {
     "end_time": "2020-03-26T15:11:25.538323Z",
     "start_time": "2020-03-26T15:11:25.534511Z"
    }
   },
   "outputs": [],
   "source": [
    "train_transforms = torchvision.transforms.Compose([\n",
    "    torchvision.transforms.ToPILImage(),\n",
    "    torchvision.transforms.RandomVerticalFlip(p=0.5),\n",
    "    torchvision.transforms.RandomHorizontalFlip(p=0.5),\n",
    "    #     torchvision.transforms.ColorJitter(\n",
    "    #         brightness=0.25,\n",
    "    #         contrast=0.25,\n",
    "    #         saturation=0.25,\n",
    "    #         hue=0.1,\n",
    "    #     ),\n",
    "    torchvision.transforms.ToTensor(),\n",
    "])\n",
    "\n",
    "valid_transforms = torchvision.transforms.Compose([\n",
    "    torchvision.transforms.ToTensor(),\n",
    "])"
   ]
  },
  {
   "cell_type": "code",
   "execution_count": 9,
   "metadata": {
    "ExecuteTime": {
     "end_time": "2020-03-26T15:11:25.671000Z",
     "start_time": "2020-03-26T15:11:25.539830Z"
    }
   },
   "outputs": [],
   "source": [
    "class ArrayDataset(torch.utils.data.Dataset):\n",
    "    def __init__(self, array_x, array_y, transform=None):\n",
    "        self.array_x = array_x\n",
    "        self.array_y = array_y\n",
    "        self.transform = transform\n",
    "\n",
    "    def __len__(self):\n",
    "        return self.array_x.shape[0]\n",
    "\n",
    "    def __getitem__(self, idx):\n",
    "        x = self.array_x[idx]\n",
    "        if self.transform is not None:\n",
    "            x = self.transform(x)\n",
    "        else:\n",
    "            x = torch.tensor(x)\n",
    "        if self.array_y is None:\n",
    "            y = None\n",
    "        else:\n",
    "            y = self.array_y[idx]\n",
    "            y = torch.tensor(y)\n",
    "        return x, y"
   ]
  },
  {
   "cell_type": "code",
   "execution_count": 10,
   "metadata": {
    "ExecuteTime": {
     "end_time": "2020-03-26T15:11:25.771308Z",
     "start_time": "2020-03-26T15:11:25.673330Z"
    }
   },
   "outputs": [],
   "source": [
    "train_ds = ArrayDataset(x_train, y_train, transform=train_transforms)\n",
    "valid_ds = ArrayDataset(x_valid, y_valid, transform=valid_transforms)\n",
    "\n",
    "unsup_ds = ArrayDataset(x_unsup, None, transform=valid_transforms)\n",
    "unsup_ds_tta = ArrayDataset(x_unsup, None, transform=train_transforms)"
   ]
  },
  {
   "cell_type": "code",
   "execution_count": 11,
   "metadata": {
    "ExecuteTime": {
     "end_time": "2020-03-26T15:11:25.884160Z",
     "start_time": "2020-03-26T15:11:25.774581Z"
    }
   },
   "outputs": [],
   "source": [
    "class PretrainedModel(nn.Module):\n",
    "    def __init__(self, output_features):\n",
    "        super().__init__()\n",
    "        model = torchvision.models.resnet18(pretrained=True)\n",
    "        num_ftrs = model.fc.in_features\n",
    "        model.fc = nn.Sequential(\n",
    "            nn.Linear(num_ftrs, 256),\n",
    "            nn.ReLU(),\n",
    "            nn.Dropout(0.4),\n",
    "            nn.Linear(256, output_features),\n",
    "            nn.Softmax(dim=1),\n",
    "        )\n",
    "\n",
    "        self.model = model\n",
    "\n",
    "    def forward(self, x):\n",
    "        return self.model(x)\n",
    "\n",
    "\n",
    "model = torch.load(\"./model_20200326_1431.pt\")"
   ]
  },
  {
   "cell_type": "code",
   "execution_count": 15,
   "metadata": {
    "ExecuteTime": {
     "end_time": "2020-03-26T15:11:55.147182Z",
     "start_time": "2020-03-26T15:11:55.139159Z"
    }
   },
   "outputs": [],
   "source": [
    "def pseudo_label(idx, thresholds_pred, threshold_std=0.1):\n",
    "    # Batch TTA\n",
    "    x = unsup_ds[idx][0]\n",
    "    x = torch.stack([x])\n",
    "    x_tta = [unsup_ds[idx][0]] + [unsup_ds_tta[idx][0] for _ in range(3)]\n",
    "    x_tta = torch.stack(x_tta)\n",
    "\n",
    "    # Predictions\n",
    "    y = model(x).detach().numpy()\n",
    "    y_tta = model(x_tta).detach().numpy()\n",
    "\n",
    "    # Means & std\n",
    "    y_tta_mean = np.mean(y_tta, axis=0)\n",
    "    y_tta_std = np.std(y_tta, axis=0)\n",
    "\n",
    "    ranks = np.argsort(y_tta_mean)[::-1]\n",
    "    top1 = ranks[0]\n",
    "\n",
    "    if y_tta_mean[top1] >= thresholds_pred[top1] and y_tta_std[top1] < threshold_std:\n",
    "        return top1\n",
    "    else:\n",
    "        return None"
   ]
  },
  {
   "cell_type": "code",
   "execution_count": 33,
   "metadata": {
    "ExecuteTime": {
     "end_time": "2020-03-26T16:56:30.440017Z",
     "start_time": "2020-03-26T16:53:43.640399Z"
    }
   },
   "outputs": [
    {
     "name": "stderr",
     "output_type": "stream",
     "text": [
      "100%|██████████| 5000/5000 [02:46<00:00, 29.98it/s]\n"
     ]
    }
   ],
   "source": [
    "labels = []\n",
    "for idx in tqdm.trange(len(x_unsup)):\n",
    "    y_pseudo = pseudo_label(idx, THRESHOLDS)\n",
    "    if y_pseudo is not None:\n",
    "        labels.append((idx, y_pseudo))"
   ]
  },
  {
   "cell_type": "code",
   "execution_count": 35,
   "metadata": {
    "ExecuteTime": {
     "end_time": "2020-03-26T16:56:30.532793Z",
     "start_time": "2020-03-26T16:56:30.447894Z"
    }
   },
   "outputs": [],
   "source": [
    "indexes = np.asarray([label[0] for label in labels])\n",
    "y = np.asarray([label[1] for label in labels])"
   ]
  },
  {
   "cell_type": "code",
   "execution_count": 36,
   "metadata": {
    "ExecuteTime": {
     "end_time": "2020-03-26T16:56:30.600273Z",
     "start_time": "2020-03-26T16:56:30.534808Z"
    }
   },
   "outputs": [
    {
     "data": {
      "text/plain": [
       "(array([0, 1, 2, 3, 4, 5, 6, 7, 8, 9]),\n",
       " array([258, 115, 127, 122, 237, 229,  78, 266,  51, 373]))"
      ]
     },
     "execution_count": 36,
     "metadata": {},
     "output_type": "execute_result"
    }
   ],
   "source": [
    "np.unique(y, return_counts=True)"
   ]
  },
  {
   "cell_type": "code",
   "execution_count": 42,
   "metadata": {
    "ExecuteTime": {
     "end_time": "2020-03-26T17:00:43.674658Z",
     "start_time": "2020-03-26T17:00:43.663916Z"
    }
   },
   "outputs": [],
   "source": [
    "x_unsup_labellized_1 = x_unsup[indexes]\n",
    "y_unsup_labellized_1 = y"
   ]
  },
  {
   "cell_type": "code",
   "execution_count": 43,
   "metadata": {
    "ExecuteTime": {
     "end_time": "2020-03-26T17:00:44.216190Z",
     "start_time": "2020-03-26T17:00:44.160273Z"
    }
   },
   "outputs": [],
   "source": [
    "train_dataset = DATASOURCE.open(TRAIN_DATA_URL, \"rb\")\n",
    "train_dataset = np.load(train_dataset)\n",
    "\n",
    "x_train, y_train = train_dataset['x'], train_dataset['y']"
   ]
  },
  {
   "cell_type": "code",
   "execution_count": 44,
   "metadata": {
    "ExecuteTime": {
     "end_time": "2020-03-26T17:00:59.952981Z",
     "start_time": "2020-03-26T17:00:59.917223Z"
    }
   },
   "outputs": [
    {
     "data": {
      "text/plain": [
       "((2356, 64, 64, 3), (2356,))"
      ]
     },
     "execution_count": 44,
     "metadata": {},
     "output_type": "execute_result"
    }
   ],
   "source": [
    "x_train_unsup_1 = np.concatenate([x_train, x_unsup_labellized_1])\n",
    "y_train_unsup_1 = np.concatenate([y_train, y_unsup_labellized_1])\n",
    "x_train_unsup_1.shape, y_train_unsup_1.shape"
   ]
  },
  {
   "cell_type": "code",
   "execution_count": 45,
   "metadata": {
    "ExecuteTime": {
     "end_time": "2020-03-26T17:01:44.963346Z",
     "start_time": "2020-03-26T17:01:43.784445Z"
    }
   },
   "outputs": [],
   "source": [
    "with open('./eurosat_pseudolabellized_1.npz', 'wb') as f:\n",
    "    np.savez_compressed(f, x=x_train_unsup_1, y=y_train_unsup_1)"
   ]
  }
 ],
 "metadata": {
  "jupytext": {
   "formats": "ipynb,py:percent"
  },
  "kernelspec": {
   "display_name": "Python 3",
   "language": "python",
   "name": "python3"
  },
  "language_info": {
   "codemirror_mode": {
    "name": "ipython",
    "version": 3
   },
   "file_extension": ".py",
   "mimetype": "text/x-python",
   "name": "python",
   "nbconvert_exporter": "python",
   "pygments_lexer": "ipython3",
   "version": "3.7.6"
  },
  "toc": {
   "base_numbering": 1,
   "nav_menu": {},
   "number_sections": true,
   "sideBar": true,
   "skip_h1_title": false,
   "title_cell": "Table of Contents",
   "title_sidebar": "Contents",
   "toc_cell": false,
   "toc_position": {},
   "toc_section_display": true,
   "toc_window_display": false
  }
 },
 "nbformat": 4,
 "nbformat_minor": 4
}
